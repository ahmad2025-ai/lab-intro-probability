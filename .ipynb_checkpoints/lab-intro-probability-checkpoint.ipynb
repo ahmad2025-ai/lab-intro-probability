{
 "cells": [
  {
   "cell_type": "markdown",
   "metadata": {},
   "source": [
    "# Lab | Intro to Probability"
   ]
  },
  {
   "cell_type": "markdown",
   "metadata": {},
   "source": [
    "**Objective**\n",
    "\n",
    "Welcome to this Intro to Probability lab, where we explore decision-making scenarios through the lens of probability and strategic analysis. In the business world, making informed decisions is crucial, especially when faced with uncertainties. This lab focuses on scenarios where probabilistic outcomes play a significant role in shaping strategies and outcomes. Students will engage in exercises that require assessing and choosing optimal paths based on data-driven insights. The goal is to enhance your skills by applying probability concepts to solve real-world problems."
   ]
  },
  {
   "cell_type": "markdown",
   "metadata": {},
   "source": [
    "**Challenge 1**"
   ]
  },
  {
   "cell_type": "markdown",
   "metadata": {},
   "source": [
    "#### Ironhack Airlines \n",
    "\n",
    "Often Airlines sell more tickets than they have seats available, this is called overbooking. Consider the following:\n",
    "- A plane has 450 seats. \n",
    "- Based on historical data we conclude that each individual passenger has a 3% chance of missing it's flight. \n",
    "\n",
    "If the Ironhack Airlines routinely sells 460 tickets, what is the chance that they have a seats for all passenger?"
   ]
  },
  {
   "cell_type": "code",
   "execution_count": 39,
   "metadata": {},
   "outputs": [
    {
     "name": "stdout",
     "output_type": "stream",
     "text": [
      "The probability that all passengers can be accommodated is: 0.8505\n"
     ]
    }
   ],
   "source": [
    "import scipy.stats as stats\n",
    "\n",
    "# Given values\n",
    "n = 460  # Number of tickets sold\n",
    "p = 0.97  # Probability of a passenger showing up\n",
    "mu = n * p  # Mean of the normal distribution\n",
    "sigma = (n * p * (1 - p))**0.5  # Standard deviation of the normal distribution\n",
    "\n",
    "# Calculate the z-score for 450 passengers\n",
    "z = (450 - mu) / sigma\n",
    "\n",
    "# Calculate the cumulative probability P(X <= 450)\n",
    "probability = stats.norm.cdf(z)\n",
    "\n",
    "print(f\"The probability that all passengers can be accommodated is: {probability:.4f}\")\n"
   ]
  },
  {
   "cell_type": "markdown",
   "metadata": {},
   "source": [
    "**Challenge 2**"
   ]
  },
  {
   "cell_type": "markdown",
   "metadata": {},
   "source": [
    "#### Ironhack Call Center "
   ]
  },
  {
   "cell_type": "markdown",
   "metadata": {},
   "source": [
    "Suppose a customer service representative at a call center is handling customer complaints. Consider the following:\n",
    "- The probability of successfully resolving a customer complaint on the first attempt is 0.3. \n",
    "\n",
    "\n",
    "What is the probability that the representative needs to make at least three attempts before successfully resolving a customer complaint?"
   ]
  },
  {
   "cell_type": "code",
   "execution_count": 35,
   "metadata": {},
   "outputs": [
    {
     "name": "stdout",
     "output_type": "stream",
     "text": [
      "The probability that the representative needs at least three attempts before successfully resolving the complaint is: 0.4900\n"
     ]
    }
   ],
   "source": [
    "# Given values\n",
    "p = 0.3  # Probability of resolving a complaint on the first attempt\n",
    "\n",
    "# Calculate the probability of needing at least 3 attempts\n",
    "P_X_leq_2 = p + (1 - p) * p  # P(X <= 2)\n",
    "P_X_geq_3 = 1 - P_X_leq_2  # P(X >= 3)\n",
    "\n",
    "print(f\"The probability that the representative needs at least three attempts before successfully resolving the complaint is: {P_X_geq_3:.4f}\")\n"
   ]
  },
  {
   "cell_type": "markdown",
   "metadata": {},
   "source": [
    "**Challenge 3**"
   ]
  },
  {
   "cell_type": "markdown",
   "metadata": {},
   "source": [
    "#### Ironhack Website"
   ]
  },
  {
   "cell_type": "markdown",
   "metadata": {},
   "source": [
    "Consider a scenario related to Ironhack website traffic. Where:\n",
    "- our website takes on average 500 visits per hour.\n",
    "- the website's server is designed to handle up to 550 vists per hour.\n",
    "\n",
    "\n",
    "What is the probability of the website server being overwhelmed?"
   ]
  },
  {
   "cell_type": "code",
   "execution_count": 9,
   "metadata": {},
   "outputs": [
    {
     "name": "stdout",
     "output_type": "stream",
     "text": [
      "The probability of the server being overwhelmed is: 0.0129\n"
     ]
    }
   ],
   "source": [
    "#code here\n",
    "import scipy.stats as stats\n",
    "\n",
    "\n",
    "lambda_visits = 500  # Average visits per hour\n",
    "threshold_visits = 550  # Server capacity threshold\n",
    "\n",
    "# Compute the cumulative probability of receiving <= 550 visits\n",
    "cumulative_prob = stats.poisson.cdf(threshold_visits, lambda_visits)\n",
    "\n",
    "# Probability of the server being overwhelmed (more than 550 visits)\n",
    "probability_overwhelmed = 1 - cumulative_prob\n",
    "\n",
    "print(f\"The probability of the server being overwhelmed is: {probability_overwhelmed:.4f}\")\n"
   ]
  },
  {
   "cell_type": "markdown",
   "metadata": {},
   "source": [
    "What is the probability of being overwhelmed at some point during a day? (consider 24hours)"
   ]
  },
  {
   "cell_type": "code",
   "execution_count": 11,
   "metadata": {},
   "outputs": [
    {
     "name": "stdout",
     "output_type": "stream",
     "text": [
      "The probability of the server being overwhelmed at some point during the day is: 0.2677\n"
     ]
    }
   ],
   "source": [
    "#code here\n",
    "import scipy.stats as stats\n",
    "\n",
    "# Given values\n",
    "lambda_visits = 500  # Average visits per hour\n",
    "threshold_visits = 550  # Server capacity threshold\n",
    "hours_per_day = 24  # Number of hours in a day\n",
    "\n",
    "# Step 1: Calculate the probability of NOT being overwhelmed in a given hour (i.e., P(X <= 550))\n",
    "prob_not_overwhelmed_in_hour = stats.poisson.cdf(threshold_visits, lambda_visits)\n",
    "\n",
    "# Step 2: Calculate the probability of NOT being overwhelmed across all 24 hours\n",
    "prob_not_overwhelmed_in_day = prob_not_overwhelmed_in_hour ** hours_per_day\n",
    "\n",
    "# Step 3: Calculate the probability of being overwhelmed at some point during the day\n",
    "prob_overwhelmed_in_day = 1 - prob_not_overwhelmed_in_day\n",
    "\n",
    "print(f\"The probability of the server being overwhelmed at some point during the day is: {prob_overwhelmed_in_day:.4f}\")\n"
   ]
  },
  {
   "cell_type": "markdown",
   "metadata": {},
   "source": [
    "**Challenge 4**"
   ]
  },
  {
   "cell_type": "markdown",
   "metadata": {},
   "source": [
    "#### Ironhack Helpdesk"
   ]
  },
  {
   "cell_type": "markdown",
   "metadata": {},
   "source": [
    "Consider a scenario related to the time between arrivals of customers at a service desk.\n",
    "\n",
    "On average, a customers arrives every 10minutes.\n",
    "\n",
    "What is the probability that the next customer will arrive within the next 5 minutes?"
   ]
  },
  {
   "cell_type": "code",
   "execution_count": 13,
   "metadata": {},
   "outputs": [
    {
     "data": {
      "text/plain": [
       "0.3934693402873666"
      ]
     },
     "execution_count": 13,
     "metadata": {},
     "output_type": "execute_result"
    }
   ],
   "source": [
    "from scipy.stats import expon\n",
    "lambda_value=0.1\n",
    "lambda_inv=expon(scale=1/lambda_value)\n",
    "lambda_inv.cdf(5)"
   ]
  },
  {
   "cell_type": "markdown",
   "metadata": {},
   "source": [
    "If there is no customer for 15minutes, employees can that a 5minutes break.\n",
    "\n",
    "What is the probability an employee taking a break?"
   ]
  },
  {
   "cell_type": "code",
   "execution_count": 17,
   "metadata": {},
   "outputs": [
    {
     "name": "stdout",
     "output_type": "stream",
     "text": [
      "The probability that an employee will take a break (no customer for 15 minutes) is: 0.2231\n"
     ]
    }
   ],
   "source": [
    "import scipy.stats as stats\n",
    "\n",
    "# Given values\n",
    "lambda_rate = 1 / 10  # Average time between arrivals is 10 minutes\n",
    "time_no_customer = 15  # Time duration we are interested in (15 minutes)\n",
    "\n",
    "# Calculate the probability that no customer arrives in 15 minutes (employee can take a break)\n",
    "probability_break = stats.expon.sf(time_no_customer, scale=1/lambda_rate)\n",
    "\n",
    "print(f\"The probability that an employee will take a break (no customer for 15 minutes) is: {probability_break:.4f}\")\n"
   ]
  },
  {
   "cell_type": "markdown",
   "metadata": {},
   "source": [
    "**Challenge 5**"
   ]
  },
  {
   "cell_type": "markdown",
   "metadata": {},
   "source": [
    "The weights of a certain species of birds follow a normal distribution with a mean weight of 150 grams and a standard deviation of 10 grams. \n",
    "\n",
    "- If we randomly select a bird, what is the probability that its weight is between 140 and 160 grams?"
   ]
  },
  {
   "cell_type": "code",
   "execution_count": 25,
   "metadata": {},
   "outputs": [
    {
     "data": {
      "text/plain": [
       "0.6826894921370859"
      ]
     },
     "execution_count": 25,
     "metadata": {},
     "output_type": "execute_result"
    }
   ],
   "source": [
    "#code here\n",
    "from scipy.stats import norm\n",
    "mean=150\n",
    "std=10\n",
    "x1=140\n",
    "x2=160\n",
    "z1=(x1-mean)/std\n",
    "z2=(x2-mean)/std\n",
    "p1=stats.norm.cdf(z1)\n",
    "p2=stats.norm.cdf(z2)\n",
    "\n",
    "probability=p2-p1\n",
    "probability\n",
    "\n"
   ]
  },
  {
   "cell_type": "markdown",
   "metadata": {},
   "source": [
    "**Challenge 6**"
   ]
  },
  {
   "cell_type": "markdown",
   "metadata": {},
   "source": [
    "If the lifetime (in hours) of a certain electronic component follows an exponential distribution with a mean lifetime of 50 hours, what is the probability that the component fails within the first 30 hours?"
   ]
  },
  {
   "cell_type": "code",
   "execution_count": 31,
   "metadata": {},
   "outputs": [
    {
     "name": "stdout",
     "output_type": "stream",
     "text": [
      "The probability that the component fails within the first 30 hours is: 0.4512\n"
     ]
    }
   ],
   "source": [
    "import numpy as np\n",
    "\n",
    "# Given values\n",
    "mu = 50  # Mean lifetime in hours\n",
    "time = 30  # Time duration we are interested in (30 hours)\n",
    "\n",
    "# Calculate the rate parameter (lambda)\n",
    "lambda_rate = 1 / mu\n",
    "\n",
    "# Calculate the probability that the component fails within 30 hours\n",
    "probability = 1 - np.exp(-lambda_rate * time)\n",
    "\n",
    "print(f\"The probability that the component fails within the first 30 hours is: {probability:.4f}\")\n"
   ]
  },
  {
   "cell_type": "code",
   "execution_count": null,
   "metadata": {},
   "outputs": [],
   "source": []
  }
 ],
 "metadata": {
  "kernelspec": {
   "display_name": "Python 3 (ipykernel)",
   "language": "python",
   "name": "python3"
  },
  "language_info": {
   "codemirror_mode": {
    "name": "ipython",
    "version": 3
   },
   "file_extension": ".py",
   "mimetype": "text/x-python",
   "name": "python",
   "nbconvert_exporter": "python",
   "pygments_lexer": "ipython3",
   "version": "3.12.7"
  }
 },
 "nbformat": 4,
 "nbformat_minor": 4
}
